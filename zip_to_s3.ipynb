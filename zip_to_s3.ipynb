{
 "cells": [
  {
   "cell_type": "markdown",
   "metadata": {},
   "source": [
    "## Zip to S3"
   ]
  },
  {
   "cell_type": "markdown",
   "metadata": {},
   "source": [
    "This notebook automates the (re)build, install, zip, and upload to S3 required to update a AWS Layer."
   ]
  },
  {
   "cell_type": "code",
   "execution_count": 3,
   "metadata": {},
   "outputs": [],
   "source": [
    "from my_utils.os_utils import subprocess_execute, zipdir"
   ]
  },
  {
   "cell_type": "code",
   "execution_count": 4,
   "metadata": {},
   "outputs": [],
   "source": [
    "# list of packages to build\n",
    "packages_todo = [\n",
    "    # list of tuples: ('package_name','from_pip')\n",
    "    #('pandas',True),\n",
    "    ('my_utils',False),\n",
    "    ('my_dev',False),    \n",
    "]\n",
    "package_base_dir = 'C:\\\\Users\\\\amaguire\\\\Documents\\\\GitHub\\\\my-python-packages'\n",
    "s3_path = 's3://andrewm4894-python-packages/latest/'\n",
    "s3_region = 'us-west-2'\n",
    "s3_bucket = s3_path.split('s3://')[1].split('/')[0]\n",
    "s3_url = s3_path.replace('s3://','https://').replace(s3_bucket,f'{s3_bucket}.s3-{s3_region}.amazonaws.com')"
   ]
  },
  {
   "cell_type": "code",
   "execution_count": 14,
   "metadata": {},
   "outputs": [
    {
     "name": "stdout",
     "output_type": "stream",
     "text": [
      "... cmd to execute:\n",
      "cd C:\\Users\\amaguire\\Documents\\GitHub\\my-python-packages\\my_utils && python setup.py bdist_egg && cd C:\\Users\\amaguire\\Documents\\GitHub\\my-python-packages\\python && pip install --upgrade \"C:\\Users\\amaguire\\Documents\\GitHub\\my-python-packages\\my_utils\" -t .\n",
      "... result:\n",
      "running bdist_egg\n",
      "running egg_info\n",
      "writing my_utils.egg-info\\PKG-INFO\n",
      "writing dependency_links to my_utils.egg-info\\dependency_links.txt\n",
      "writing top-level names to my_utils.egg-info\\top_level.txt\n",
      "reading manifest file 'my_utils.egg-info\\SOURCES.txt'\n",
      "writing manifest file 'my_utils.egg-info\\SOURCES.txt'\n",
      "installing library code to build\\bdist.win-amd64\\egg\n",
      "running install_lib\n",
      "running build_py\n",
      "creating build\\bdist.win-amd64\\egg\n",
      "creating build\\bdist.win-amd64\\egg\\my_utils\n",
      "copying build\\lib\\my_utils\\os_utils.py -> build\\bdist.win-amd64\\egg\\my_utils\n",
      "copying build\\lib\\my_utils\\__init__.py -> build\\bdist.win-amd64\\egg\\my_utils\n",
      "byte-compiling build\\bdist.win-amd64\\egg\\my_utils\\os_utils.py to os_utils.cpython-36.pyc\n",
      "byte-compiling build\\bdist.win-amd64\\egg\\my_utils\\__init__.py to __init__.cpython-36.pyc\n",
      "creating build\\bdist.win-amd64\\egg\\EGG-INFO\n",
      "copying my_utils.egg-info\\PKG-INFO -> build\\bdist.win-amd64\\egg\\EGG-INFO\n",
      "copying my_utils.egg-info\\SOURCES.txt -> build\\bdist.win-amd64\\egg\\EGG-INFO\n",
      "copying my_utils.egg-info\\dependency_links.txt -> build\\bdist.win-amd64\\egg\\EGG-INFO\n",
      "copying my_utils.egg-info\\not-zip-safe -> build\\bdist.win-amd64\\egg\\EGG-INFO\n",
      "copying my_utils.egg-info\\top_level.txt -> build\\bdist.win-amd64\\egg\\EGG-INFO\n",
      "creating 'dist\\my_utils-0.1-py3.6.egg' and adding 'build\\bdist.win-amd64\\egg' to it\n",
      "removing 'build\\bdist.win-amd64\\egg' (and everything under it)\n",
      "Processing c:\\users\\amaguire\\documents\\github\\my-python-packages\\my_utils\n",
      "Building wheels for collected packages: my-utils\n",
      "  Running setup.py bdist_wheel for my-utils: started\n",
      "  Running setup.py bdist_wheel for my-utils: finished with status 'done'\n",
      "  Stored in directory: C:\\Users\\amaguire\\AppData\\Local\\Temp\\pip-ephem-wheel-cache-ee692ef8\\wheels\\63\\af\\18\\669fd6e5a3a11fe59606f11b99c17ebb45bf580f42716c70ab\n",
      "Successfully built my-utils\n",
      "Installing collected packages: my-utils\n",
      "Successfully installed my-utils-0.1\n",
      "\n",
      "... cmd to execute:\n",
      "cd C:\\Users\\amaguire\\Documents\\GitHub\\my-python-packages\\my_dev && python setup.py bdist_egg && cd C:\\Users\\amaguire\\Documents\\GitHub\\my-python-packages\\python && pip install --upgrade \"C:\\Users\\amaguire\\Documents\\GitHub\\my-python-packages\\my_dev\" -t .\n",
      "... result:\n",
      "running bdist_egg\n",
      "running egg_info\n",
      "writing my_dev.egg-info\\PKG-INFO\n",
      "writing dependency_links to my_dev.egg-info\\dependency_links.txt\n",
      "writing top-level names to my_dev.egg-info\\top_level.txt\n",
      "reading manifest file 'my_dev.egg-info\\SOURCES.txt'\n",
      "writing manifest file 'my_dev.egg-info\\SOURCES.txt'\n",
      "installing library code to build\\bdist.win-amd64\\egg\n",
      "running install_lib\n",
      "running build_py\n",
      "creating build\\bdist.win-amd64\\egg\n",
      "creating build\\bdist.win-amd64\\egg\\my_dev\n",
      "copying build\\lib\\my_dev\\dev.py -> build\\bdist.win-amd64\\egg\\my_dev\n",
      "copying build\\lib\\my_dev\\__init__.py -> build\\bdist.win-amd64\\egg\\my_dev\n",
      "byte-compiling build\\bdist.win-amd64\\egg\\my_dev\\dev.py to dev.cpython-36.pyc\n",
      "byte-compiling build\\bdist.win-amd64\\egg\\my_dev\\__init__.py to __init__.cpython-36.pyc\n",
      "creating build\\bdist.win-amd64\\egg\\EGG-INFO\n",
      "copying my_dev.egg-info\\PKG-INFO -> build\\bdist.win-amd64\\egg\\EGG-INFO\n",
      "copying my_dev.egg-info\\SOURCES.txt -> build\\bdist.win-amd64\\egg\\EGG-INFO\n",
      "copying my_dev.egg-info\\dependency_links.txt -> build\\bdist.win-amd64\\egg\\EGG-INFO\n",
      "copying my_dev.egg-info\\not-zip-safe -> build\\bdist.win-amd64\\egg\\EGG-INFO\n",
      "copying my_dev.egg-info\\top_level.txt -> build\\bdist.win-amd64\\egg\\EGG-INFO\n",
      "creating 'dist\\my_dev-0.1-py3.6.egg' and adding 'build\\bdist.win-amd64\\egg' to it\n",
      "removing 'build\\bdist.win-amd64\\egg' (and everything under it)\n",
      "Processing c:\\users\\amaguire\\documents\\github\\my-python-packages\\my_dev\n",
      "Building wheels for collected packages: my-dev\n",
      "  Running setup.py bdist_wheel for my-dev: started\n",
      "  Running setup.py bdist_wheel for my-dev: finished with status 'done'\n",
      "  Stored in directory: C:\\Users\\amaguire\\AppData\\Local\\Temp\\pip-ephem-wheel-cache-5rlhaoag\\wheels\\7d\\0c\\ca\\ba4e9102842b4f7c5d20595a6d42181ee398757f00ebee3784\n",
      "Successfully built my-dev\n",
      "Installing collected packages: my-dev\n",
      "Successfully installed my-dev-0.1\n",
      "\n"
     ]
    }
   ],
   "source": [
    "# build and install locally each package\n",
    "for package_name, from_pip in packages_todo:\n",
    "    cmd = ''\n",
    "    # run pip install within the python dir\n",
    "    if from_pip:\n",
    "        # if from pip then just use name\n",
    "        cmd = cmd + f'pip install --upgrade --force-reinstall \"{package_name}\" -t {package_base_dir}\\\\python\\\\'\n",
    "    else:\n",
    "        # cd into the package dir\n",
    "        cmd = f'cd {package_base_dir}\\\\{package_name}'\n",
    "        # run the build commands to create local egg file to be zipped up into an AWS layer\n",
    "        cmd = cmd + f' && python setup.py bdist_egg'\n",
    "        # cd into the 'python' dir which is to be zipped up and sent to AWS\n",
    "        cmd = cmd + f' && cd {package_base_dir}\\\\python'\n",
    "        # otherwise point to local dir\n",
    "        cmd = cmd + f' && pip install --upgrade \"{package_base_dir}\\\\{package_name}\" -t .'\n",
    "    # kick off big command to do the stuff\n",
    "    result = subprocess_execute(cmd)\n",
    "    # look at results\n",
    "    print(result)"
   ]
  },
  {
   "cell_type": "code",
   "execution_count": 5,
   "metadata": {},
   "outputs": [
    {
     "name": "stdout",
     "output_type": "stream",
     "text": [
      "... cmd to execute:\n",
      "aws s3 cp --region us-west-2 C:\\Users\\amaguire\\Documents\\GitHub\\my-python-packages\\python.zip s3://andrewm4894-python-packages/latest/\n",
      "... result:\n",
      "upload: .\\python.zip to s3://andrewm4894-python-packages/latest/python.zip\n",
      "\n",
      "... zip should be updated at: https://andrewm4894-python-packages.s3-us-west-2.amazonaws.com/latest/python.zip ...\n"
     ]
    }
   ],
   "source": [
    "# make zip\n",
    "zipdir('python/','python.zip')\n",
    "# upload zip to s3 using aws cli\n",
    "cmd = f'aws s3 cp --region {s3_region} {package_base_dir}\\\\python.zip {s3_path}'\n",
    "print(subprocess_execute(cmd))\n",
    "print(f'... zip should be updated at: {s3_url}python.zip ...')"
   ]
  },
  {
   "cell_type": "code",
   "execution_count": null,
   "metadata": {},
   "outputs": [],
   "source": []
  },
  {
   "cell_type": "code",
   "execution_count": null,
   "metadata": {},
   "outputs": [],
   "source": []
  },
  {
   "cell_type": "code",
   "execution_count": null,
   "metadata": {},
   "outputs": [],
   "source": []
  },
  {
   "cell_type": "code",
   "execution_count": null,
   "metadata": {},
   "outputs": [],
   "source": []
  },
  {
   "cell_type": "code",
   "execution_count": null,
   "metadata": {},
   "outputs": [],
   "source": []
  }
 ],
 "metadata": {
  "kernelspec": {
   "display_name": "Python 3",
   "language": "python",
   "name": "python3"
  },
  "language_info": {
   "codemirror_mode": {
    "name": "ipython",
    "version": 3
   },
   "file_extension": ".py",
   "mimetype": "text/x-python",
   "name": "python",
   "nbconvert_exporter": "python",
   "pygments_lexer": "ipython3",
   "version": "3.6.8"
  }
 },
 "nbformat": 4,
 "nbformat_minor": 2
}
