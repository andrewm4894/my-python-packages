{
 "cells": [
  {
   "cell_type": "markdown",
   "metadata": {},
   "source": [
    "## Zip to S3"
   ]
  },
  {
   "cell_type": "markdown",
   "metadata": {},
   "source": [
    "This notebook automates the (re)build, install, zip, and upload to S3 required to update a AWS Layer."
   ]
  },
  {
   "cell_type": "code",
   "execution_count": 1,
   "metadata": {},
   "outputs": [
    {
     "ename": "ModuleNotFoundError",
     "evalue": "No module named 'my_utils'",
     "output_type": "error",
     "traceback": [
      "\u001b[0;31m---------------------------------------------------------------------------\u001b[0m",
      "\u001b[0;31mModuleNotFoundError\u001b[0m                       Traceback (most recent call last)",
      "\u001b[0;32m<ipython-input-1-484adde27db4>\u001b[0m in \u001b[0;36m<module>\u001b[0;34m\u001b[0m\n\u001b[0;32m----> 1\u001b[0;31m \u001b[0;32mfrom\u001b[0m \u001b[0mmy_utils\u001b[0m\u001b[0;34m.\u001b[0m\u001b[0mos_utils\u001b[0m \u001b[0;32mimport\u001b[0m \u001b[0msubprocess_execute\u001b[0m\u001b[0;34m,\u001b[0m \u001b[0mzipdir\u001b[0m\u001b[0;34m\u001b[0m\u001b[0;34m\u001b[0m\u001b[0m\n\u001b[0m",
      "\u001b[0;31mModuleNotFoundError\u001b[0m: No module named 'my_utils'"
     ]
    }
   ],
   "source": [
    "from my_utils.os_utils import subprocess_execute, zipdir"
   ]
  },
  {
   "cell_type": "code",
   "execution_count": 4,
   "metadata": {},
   "outputs": [],
   "source": [
    "# list of packages to build\n",
    "packages_todo = [\n",
    "    # list of tuples: ('package_name','from_pip')\n",
    "    #('pandas',True),\n",
    "    ('my_utils',False),\n",
    "    ('my_dev',False),    \n",
    "]\n",
    "package_base_dir = '/home/vagrant/packages'\n",
    "s3_path = 's3://andrewm4894-python-packages/latest/'\n",
    "s3_region = 'us-west-2'\n",
    "s3_bucket = s3_path.split('s3://')[1].split('/')[0]\n",
    "s3_url = s3_path.replace('s3://','https://').replace(s3_bucket,f'{s3_bucket}.s3-{s3_region}.amazonaws.com')"
   ]
  },
  {
   "cell_type": "code",
   "execution_count": 7,
   "metadata": {},
   "outputs": [
    {
     "name": "stdout",
     "output_type": "stream",
     "text": [
      "... cmd to execute:\n",
      "cd /home/vagrant/packages/my_utils | python setup.py bdist_egg | cd /home/vagrant/packages/python | pip install --upgrade \"/home/vagrant/packages/my_utils\" -t /home/vagrant/packages/.\n",
      "... result:\n",
      "Processing /home/vagrant/packages/my_utils\n",
      "Building wheels for collected packages: my-utils\n",
      "  Building wheel for my-utils (setup.py): started\n",
      "  Building wheel for my-utils (setup.py): finished with status 'done'\n",
      "  Created wheel for my-utils: filename=my_utils-0.1-cp36-none-any.whl size=1789 sha256=bc07348d7495c1534fa6f9a38067e14bf9bfb1c0df9ddd187bcab007e8b53312\n",
      "  Stored in directory: /tmp/pip-ephem-wheel-cache-lhfi8dgp/wheels/b0/a0/28/0e323ad727a3b13cc6aff0f961cf01b21fd665850f1d17450b\n",
      "Successfully built my-utils\n",
      "Installing collected packages: my-utils\n",
      "Successfully installed my-utils-0.1\n",
      "\n",
      "... cmd to execute:\n",
      "cd /home/vagrant/packages/my_dev | python setup.py bdist_egg | cd /home/vagrant/packages/python | pip install --upgrade \"/home/vagrant/packages/my_dev\" -t /home/vagrant/packages/.\n",
      "... result:\n",
      "Processing /home/vagrant/packages/my_dev\n",
      "Building wheels for collected packages: my-dev\n",
      "  Building wheel for my-dev (setup.py): started\n",
      "  Building wheel for my-dev (setup.py): finished with status 'done'\n",
      "  Created wheel for my-dev: filename=my_dev-0.1-cp36-none-any.whl size=1448 sha256=1fc430eb9ae0b81b10ba9a05bf0673a0cc08738d65be8b33c7f8997a8c887524\n",
      "  Stored in directory: /tmp/pip-ephem-wheel-cache-0eo406ej/wheels/5c/a2/95/27fbaf00e64b432c389102b213b6ff482bb96eed2bfd6136e9\n",
      "Successfully built my-dev\n",
      "Installing collected packages: my-dev\n",
      "Successfully installed my-dev-0.1\n",
      "\n"
     ]
    }
   ],
   "source": [
    "# build and install locally each package\n",
    "for package_name, from_pip in packages_todo:\n",
    "    cmd = ''\n",
    "    # run pip install within the python dir\n",
    "    if from_pip:\n",
    "        # if from pip then just use name\n",
    "        cmd = cmd + f'pip install --upgrade --force-reinstall \"{package_name}\" -t {package_base_dir}/python/'\n",
    "    else:\n",
    "        # cd into the package dir\n",
    "        cmd = f'cd {package_base_dir}/{package_name}'\n",
    "        # run the build commands to create local egg file to be zipped up into an AWS layer\n",
    "        cmd = cmd + f' | python setup.py bdist_egg'\n",
    "        # cd into the 'python' dir which is to be zipped up and sent to AWS\n",
    "        cmd = cmd + f' | cd {package_base_dir}/python'\n",
    "        # otherwise point to local dir\n",
    "        cmd = cmd + f' | pip install --upgrade \"{package_base_dir}/{package_name}\" -t {package_base_dir}/.'\n",
    "    # kick off big command to do the stuff\n",
    "    result = subprocess_execute(cmd)\n",
    "    # look at results\n",
    "    print(result)"
   ]
  },
  {
   "cell_type": "code",
   "execution_count": 6,
   "metadata": {},
   "outputs": [
    {
     "name": "stdout",
     "output_type": "stream",
     "text": [
      "... cmd to execute:\n",
      "aws s3 cp --region us-west-2 /home/vagrant/packages/python.zip s3://andrewm4894-python-packages/latest/\n",
      "... result:\n",
      "Error: failed to execute command: aws s3 cp --region us-west-2 /home/vagrant/packages/python.zip s3://andrewm4894-python-packages/latest/\n",
      "b'/bin/sh: 1: aws: not found\\n'\n",
      "\n",
      "... zip should be updated at: https://andrewm4894-python-packages.s3-us-west-2.amazonaws.com/latest/python.zip ...\n"
     ]
    }
   ],
   "source": [
    "# make zip\n",
    "zipdir('/home/vagrant/python/','python.zip')\n",
    "# upload zip to s3 using aws cli\n",
    "cmd = f'aws s3 cp --region {s3_region} {package_base_dir}/python.zip {s3_path}'\n",
    "print(subprocess_execute(cmd))\n",
    "print(f'... zip should be updated at: {s3_url}python.zip ...')"
   ]
  },
  {
   "cell_type": "code",
   "execution_count": null,
   "metadata": {},
   "outputs": [],
   "source": []
  },
  {
   "cell_type": "code",
   "execution_count": null,
   "metadata": {},
   "outputs": [],
   "source": []
  },
  {
   "cell_type": "code",
   "execution_count": null,
   "metadata": {},
   "outputs": [],
   "source": []
  },
  {
   "cell_type": "code",
   "execution_count": null,
   "metadata": {},
   "outputs": [],
   "source": []
  },
  {
   "cell_type": "code",
   "execution_count": null,
   "metadata": {},
   "outputs": [],
   "source": []
  }
 ],
 "metadata": {
  "kernelspec": {
   "display_name": "Python 3",
   "language": "python",
   "name": "python3"
  },
  "language_info": {
   "codemirror_mode": {
    "name": "ipython",
    "version": 3
   },
   "file_extension": ".py",
   "mimetype": "text/x-python",
   "name": "python",
   "nbconvert_exporter": "python",
   "pygments_lexer": "ipython3",
   "version": "3.6.9"
  }
 },
 "nbformat": 4,
 "nbformat_minor": 4
}
